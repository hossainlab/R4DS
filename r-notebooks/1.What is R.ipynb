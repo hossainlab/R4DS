{
 "cells": [
  {
   "cell_type": "markdown",
   "metadata": {},
   "source": [
    "# Introduction to R"
   ]
  },
  {
   "cell_type": "markdown",
   "metadata": {},
   "source": [
    "## What is R?\n",
    "- R is a programming language and environment commonly used in **statistical computing**, **data analytics** and **scientific research**.\n",
    "- It is one of the most popular languages used by **statisticians**, **data analysts**, **researchers** and **marketers to retrieve**, clean, analyze, **visualize** and present data.\n",
    "\n",
    "## Why use R for statistical computing and graphics?\n",
    "- R is open source and free!\n",
    "- R is popular – and increasing in popularity\n",
    "- R runs on all platforms\n",
    "- R is being used by the biggest tech giants(google, facebook, microsoft, twitter)\n",
    "\n",
    "## Applications of R Programming in Real World\n",
    "- Data Science\n",
    "- Data Analysis \n",
    "- Genomic Data Science \n",
    "- Biological Data Analysis \n",
    "- Mutational Signature Analysis \n",
    "- Genomic Analysis \n",
    "- Statistical Computing\n",
    "- Machine Learning"
   ]
  },
  {
   "cell_type": "code",
   "execution_count": 1,
   "metadata": {},
   "outputs": [
    {
     "name": "stdout",
     "output_type": "stream",
     "text": [
      "[1] \"Hello World!\"\n"
     ]
    }
   ],
   "source": [
    "# Write Hello World Code in R \n",
    "print(\"Hello World!\")"
   ]
  }
 ],
 "metadata": {
  "kernelspec": {
   "display_name": "R",
   "language": "R",
   "name": "ir"
  },
  "language_info": {
   "codemirror_mode": "r",
   "file_extension": ".r",
   "mimetype": "text/x-r-source",
   "name": "R",
   "pygments_lexer": "r",
   "version": "3.6.1"
  },
  "latex_envs": {
   "LaTeX_envs_menu_present": true,
   "autoclose": false,
   "autocomplete": true,
   "bibliofile": "biblio.bib",
   "cite_by": "apalike",
   "current_citInitial": 1,
   "eqLabelWithNumbers": true,
   "eqNumInitial": 1,
   "hotkeys": {
    "equation": "Ctrl-E",
    "itemize": "Ctrl-I"
   },
   "labels_anchors": false,
   "latex_user_defs": false,
   "report_style_numbering": false,
   "user_envs_cfg": false
  },
  "toc": {
   "base_numbering": 1,
   "nav_menu": {},
   "number_sections": true,
   "sideBar": true,
   "skip_h1_title": false,
   "title_cell": "Table of Contents",
   "title_sidebar": "Contents",
   "toc_cell": false,
   "toc_position": {},
   "toc_section_display": true,
   "toc_window_display": false
  }
 },
 "nbformat": 4,
 "nbformat_minor": 2
}
