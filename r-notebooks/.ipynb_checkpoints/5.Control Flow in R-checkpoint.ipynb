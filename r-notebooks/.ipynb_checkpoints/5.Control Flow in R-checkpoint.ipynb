{
 "cells": [
  {
   "cell_type": "markdown",
   "metadata": {},
   "source": [
    "# Control Flow in R\n",
    "- Conditional Logic\n",
    "    - `if..else`\n",
    "    - `if..else..else if`\n",
    "- Loops\n",
    "    - `for` loop\n",
    "    - `while` loop\n",
    "    - `break`\n",
    "    - `next`\n",
    "    - `repeat` loop"
   ]
  },
  {
   "cell_type": "markdown",
   "metadata": {},
   "source": [
    "### `if` Syntax\n",
    "\n",
    "```r\n",
    "if (condition) {\n",
    "    statement..1\n",
    "        .\n",
    "        .\n",
    "        .\n",
    "    statement..n\n",
    "}\n",
    "```\n",
    "![r-if-statement](../img/r-if-statement.jpg)"
   ]
  },
  {
   "cell_type": "code",
   "execution_count": 1,
   "metadata": {},
   "outputs": [
    {
     "name": "stdout",
     "output_type": "stream",
     "text": [
      "[1] \"positive number\"\n"
     ]
    }
   ],
   "source": [
    "# Write a program to check a number is a positive\n",
    "num = 10\n",
    "if (num > 0) {\n",
    "    print(\"positive number\")\n",
    "}"
   ]
  },
  {
   "cell_type": "markdown",
   "metadata": {},
   "source": [
    "### `if..else` Syntax\n",
    "```r\n",
    "if (condition) {\n",
    "    statement..n\n",
    "} else {\n",
    "    statement..n \n",
    "}\n",
    "```\n",
    "![r-if-else-statement](../img/r-if-else-statement.jpg)"
   ]
  },
  {
   "cell_type": "code",
   "execution_count": 2,
   "metadata": {},
   "outputs": [
    {
     "name": "stdout",
     "output_type": "stream",
     "text": [
      "[1] \"positive number\"\n"
     ]
    }
   ],
   "source": [
    "# Write a program to check a number is a positive or negative \n",
    "num = 10\n",
    "if (num > 0) {\n",
    "    print(\"positive number\")\n",
    "} else {\n",
    "    print(\"Negative number\")\n",
    "}"
   ]
  },
  {
   "cell_type": "code",
   "execution_count": 3,
   "metadata": {},
   "outputs": [
    {
     "name": "stdout",
     "output_type": "stream",
     "text": [
      "[1] \"Negative number\"\n"
     ]
    }
   ],
   "source": [
    "# Write a program to check a number is a positive or negative \n",
    "num = -10\n",
    "if (num > 0) {\n",
    "    print(\"positive number\")\n",
    "} else {\n",
    "    print(\"Negative number\")\n",
    "}"
   ]
  },
  {
   "cell_type": "markdown",
   "metadata": {},
   "source": [
    "### `if..ellse if..else` Syntax(Nested)\n",
    "```r\n",
    "if(condition) {\n",
    "    statement1 \n",
    "} else if(condition) {\n",
    "    statement 2 \n",
    "} else if(condition) {\n",
    "    statement 3 \n",
    "} else {\n",
    "    statement \n",
    "} \n",
    "```"
   ]
  },
  {
   "cell_type": "code",
   "execution_count": 4,
   "metadata": {},
   "outputs": [
    {
     "name": "stdout",
     "output_type": "stream",
     "text": [
      "[1] \"healthy\"\n"
     ]
    }
   ],
   "source": [
    "# Write a program to check your bmi and health condition\n",
    "bmi = 22\n",
    "\n",
    "if (bmi < 18.5) {\n",
    "    print(\"underweight\")\n",
    "} else if(bmi > 18.5 && bmi <= 24.9) {\n",
    "    print(\"healthy\")\n",
    "} else if(bmi >= 25 && bmi <=29.9) {\n",
    "    print(\"overweight\")\n",
    "} else if(bmi >= 30){\n",
    "    print(\"obese\")\n",
    "} else {\n",
    "    print(\"Nothing\")\n",
    "}"
   ]
  },
  {
   "cell_type": "markdown",
   "metadata": {},
   "source": [
    "### `ifelse() ` Function"
   ]
  },
  {
   "cell_type": "code",
   "execution_count": 5,
   "metadata": {},
   "outputs": [
    {
     "data": {
      "text/html": [
       "'even'"
      ],
      "text/latex": [
       "'even'"
      ],
      "text/markdown": [
       "'even'"
      ],
      "text/plain": [
       "[1] \"even\""
      ]
     },
     "metadata": {},
     "output_type": "display_data"
    }
   ],
   "source": [
    "# Check even and odd with ifelse function\n",
    "a = 10 \n",
    "ifelse(a %% 2 == 0, \"even\", \"odd\")"
   ]
  },
  {
   "cell_type": "code",
   "execution_count": 6,
   "metadata": {},
   "outputs": [
    {
     "data": {
      "text/html": [
       "<style>\n",
       ".list-inline {list-style: none; margin:0; padding: 0}\n",
       ".list-inline>li {display: inline-block}\n",
       ".list-inline>li:not(:last-child)::after {content: \"\\00b7\"; padding: 0 .5ex}\n",
       "</style>\n",
       "<ol class=list-inline><li>'even'</li><li>'even'</li><li>'odd'</li><li>'even'</li><li>'odd'</li><li>'even'</li></ol>\n"
      ],
      "text/latex": [
       "\\begin{enumerate*}\n",
       "\\item 'even'\n",
       "\\item 'even'\n",
       "\\item 'odd'\n",
       "\\item 'even'\n",
       "\\item 'odd'\n",
       "\\item 'even'\n",
       "\\end{enumerate*}\n"
      ],
      "text/markdown": [
       "1. 'even'\n",
       "2. 'even'\n",
       "3. 'odd'\n",
       "4. 'even'\n",
       "5. 'odd'\n",
       "6. 'even'\n",
       "\n",
       "\n"
      ],
      "text/plain": [
       "[1] \"even\" \"even\" \"odd\"  \"even\" \"odd\"  \"even\""
      ]
     },
     "metadata": {},
     "output_type": "display_data"
    }
   ],
   "source": [
    "# Check even or odd on a sequence of object\n",
    "b = c(22, 12, 23, 24, 21, 28)\n",
    "ifelse(b %% 2 == 0, \"even\", \"odd\")"
   ]
  },
  {
   "cell_type": "markdown",
   "metadata": {},
   "source": [
    "### `for` Loop Syntax\n",
    "```r\n",
    "for (variable in sequence) {\n",
    "    statement \n",
    "} \n",
    "```\n",
    "![r-for-loop](../img/r-for-loop.jpg)"
   ]
  },
  {
   "cell_type": "code",
   "execution_count": 7,
   "metadata": {},
   "outputs": [
    {
     "name": "stdout",
     "output_type": "stream",
     "text": [
      "[1] 1\n",
      "[1] 2\n",
      "[1] 3\n",
      "[1] 4\n",
      "[1] 5\n",
      "[1] 6\n",
      "[1] 7\n",
      "[1] 8\n",
      "[1] 9\n",
      "[1] 10\n"
     ]
    }
   ],
   "source": [
    "# Print first 10 (1 to 10) natural numbers \n",
    "for (i in 1:10) {\n",
    "    print(i) \n",
    "}"
   ]
  },
  {
   "cell_type": "code",
   "execution_count": 8,
   "metadata": {},
   "outputs": [
    {
     "name": "stdout",
     "output_type": "stream",
     "text": [
      "[1] 10\n",
      "[1] 9\n",
      "[1] 8\n",
      "[1] 7\n",
      "[1] 6\n",
      "[1] 5\n",
      "[1] 4\n",
      "[1] 3\n",
      "[1] 2\n",
      "[1] 1\n"
     ]
    }
   ],
   "source": [
    "# Print first 10 (1 to 10) natural numbers==>reverse \n",
    "for (i in 10:1) {\n",
    "    print(i) \n",
    "}"
   ]
  },
  {
   "cell_type": "code",
   "execution_count": 9,
   "metadata": {},
   "outputs": [
    {
     "name": "stdout",
     "output_type": "stream",
     "text": [
      "[1] 2\n",
      "[1] 1\n",
      "[1] 4\n",
      "[1] 5\n",
      "[1] 6\n",
      "[1] 7\n"
     ]
    }
   ],
   "source": [
    "# Iteration of a sequence \n",
    "L = c(2, 1, 4, 5, 6, 7)\n",
    "for (val in L) {\n",
    "    print(val)\n",
    "}"
   ]
  },
  {
   "cell_type": "code",
   "execution_count": 10,
   "metadata": {},
   "outputs": [
    {
     "name": "stdout",
     "output_type": "stream",
     "text": [
      "[1] 2\n",
      "[1] 4\n",
      "[1] 6\n"
     ]
    }
   ],
   "source": [
    "# Iteration of a sequence with condition\n",
    "# Print all the even numbers in L \n",
    "L = c(2, 1, 4, 5, 6, 7)\n",
    "for (val in L) {\n",
    "    if(val %% 2 == 0) {\n",
    "        print(val)\n",
    "    }\n",
    "}"
   ]
  },
  {
   "cell_type": "markdown",
   "metadata": {},
   "source": [
    "### `while` Loop Syntax\n",
    "```r\n",
    "Counter = 0\n",
    "while(condition) {\n",
    "    statement\n",
    "    # Counter Increment/Decrement\n",
    "    Counter = Counter + 1 \n",
    "} \n",
    "```\n",
    "![r-while-loop](../img/r-while-loop.jpg)"
   ]
  },
  {
   "cell_type": "code",
   "execution_count": 11,
   "metadata": {},
   "outputs": [
    {
     "name": "stdout",
     "output_type": "stream",
     "text": [
      "[1] 1\n",
      "[1] 2\n",
      "[1] 3\n",
      "[1] 4\n",
      "[1] 5\n",
      "[1] 6\n",
      "[1] 7\n",
      "[1] 8\n",
      "[1] 9\n",
      "[1] 10\n"
     ]
    }
   ],
   "source": [
    "# Print first 10 natural numbers \n",
    "i = 1 \n",
    "while (i <= 10) {\n",
    "    print(i) \n",
    "    i = i + 1 \n",
    "}"
   ]
  },
  {
   "cell_type": "code",
   "execution_count": 12,
   "metadata": {},
   "outputs": [
    {
     "name": "stdout",
     "output_type": "stream",
     "text": [
      "[1] 10\n",
      "[1] 9\n",
      "[1] 8\n",
      "[1] 7\n",
      "[1] 6\n",
      "[1] 5\n",
      "[1] 4\n",
      "[1] 3\n",
      "[1] 2\n",
      "[1] 1\n"
     ]
    }
   ],
   "source": [
    "# Reverse \n",
    "i = 10 \n",
    "while(i > 0) {\n",
    "    print(i) \n",
    "    i = i -1 \n",
    "}"
   ]
  },
  {
   "cell_type": "markdown",
   "metadata": {},
   "source": [
    "### `break` Statement \n",
    "```r\n",
    "# `break` statement in for loop\n",
    "for (var in range) {\n",
    "    if (condition) {\n",
    "        break \n",
    "   }\n",
    "}\n",
    "```\n",
    "\n",
    "```r\n",
    "# `break` statement in while loop\n",
    "Counter = 0 \n",
    "while(condition) {\n",
    "    Counter = Counter + 1 \n",
    "    if(condition) {\n",
    "        break \n",
    "     } \n",
    "}\n",
    "\n",
    "```\n",
    "![r-break-flowchart](../img/r-break-flowchart.jpg)"
   ]
  },
  {
   "cell_type": "code",
   "execution_count": 13,
   "metadata": {},
   "outputs": [
    {
     "name": "stdout",
     "output_type": "stream",
     "text": [
      "[1] 1\n",
      "[1] 2\n",
      "[1] 3\n",
      "[1] 4\n"
     ]
    }
   ],
   "source": [
    "# Example of break statement using for loop\n",
    "x <- 1:20 \n",
    "for (i in x) {\n",
    "    if(i == 5) {\n",
    "        break      \n",
    "    }\n",
    "    print(i)\n",
    "}"
   ]
  },
  {
   "cell_type": "code",
   "execution_count": 14,
   "metadata": {},
   "outputs": [
    {
     "name": "stdout",
     "output_type": "stream",
     "text": [
      "[1] 1\n",
      "[1] 2\n",
      "[1] 3\n",
      "[1] 4\n"
     ]
    }
   ],
   "source": [
    "# Example of break statement using while loop \n",
    "i = 0 \n",
    "while (i <= 20) {\n",
    "    i = i + 1 \n",
    "    if(i == 5) {\n",
    "        break\n",
    "    }\n",
    "    print(i)\n",
    "}"
   ]
  },
  {
   "cell_type": "markdown",
   "metadata": {},
   "source": [
    "> In this example, we iterate over the vector x, which has consecutive numbers from 1 to 20.\n",
    "Inside the for loop we have used a if condition to break if the current value is equal to 3.\n",
    "As we can see from the output, the loop terminates when it encounters the break statement. In while loop same as for loop"
   ]
  },
  {
   "cell_type": "markdown",
   "metadata": {},
   "source": [
    "### `next` Statement \n",
    "```r\n",
    "# `next` statement in for loop\n",
    "for (var in range) {\n",
    "    if (condition) {\n",
    "        next \n",
    "   }\n",
    "}\n",
    "```\n",
    "\n",
    "```r\n",
    "# `next` statement in while loop\n",
    "Counter = 0 \n",
    "while(condition) {\n",
    "    Counter = Counter + 1 \n",
    "    if(condition) {\n",
    "        next \n",
    "     } \n",
    "}\n",
    "\n",
    "```\n",
    "![r-next-flowchart](../img/r-next-flowchart.png)"
   ]
  },
  {
   "cell_type": "code",
   "execution_count": 15,
   "metadata": {},
   "outputs": [
    {
     "name": "stdout",
     "output_type": "stream",
     "text": [
      "[1] 1\n",
      "[1] 2\n",
      "[1] 3\n",
      "[1] 4\n",
      "[1] 6\n",
      "[1] 7\n",
      "[1] 8\n",
      "[1] 9\n",
      "[1] 10\n",
      "[1] 11\n",
      "[1] 12\n",
      "[1] 13\n",
      "[1] 14\n",
      "[1] 15\n",
      "[1] 16\n",
      "[1] 17\n",
      "[1] 18\n",
      "[1] 19\n",
      "[1] 20\n"
     ]
    }
   ],
   "source": [
    "# Example of next statement using for loop \n",
    "for (val in 1:20) {\n",
    "    if (val == 5) {\n",
    "        next \n",
    "    }\n",
    "    print(val)\n",
    "}"
   ]
  },
  {
   "cell_type": "code",
   "execution_count": 16,
   "metadata": {},
   "outputs": [
    {
     "name": "stdout",
     "output_type": "stream",
     "text": [
      "[1] 1\n",
      "[1] 2\n",
      "[1] 3\n",
      "[1] 4\n",
      "[1] 6\n",
      "[1] 7\n",
      "[1] 8\n",
      "[1] 9\n",
      "[1] 10\n",
      "[1] 11\n",
      "[1] 12\n",
      "[1] 13\n",
      "[1] 14\n",
      "[1] 15\n",
      "[1] 16\n",
      "[1] 17\n",
      "[1] 18\n",
      "[1] 19\n",
      "[1] 20\n",
      "[1] 21\n"
     ]
    }
   ],
   "source": [
    "# Example of next statement using while loop\n",
    "i = 0 \n",
    "while(i <= 20) {\n",
    "    i = i + 1 \n",
    "    if(i == 5) {\n",
    "        next\n",
    "    }\n",
    "    print(i)\n",
    "}"
   ]
  },
  {
   "cell_type": "markdown",
   "metadata": {},
   "source": [
    ">In the above example, we use the next statement inside a condition to check if the value is equal to 5.\n",
    "If the value is equal to 5, the current evaluation stops (value is not printed) but the loop continues with the next iteration.In while loop same as for loop."
   ]
  }
 ],
 "metadata": {
  "kernelspec": {
   "display_name": "R",
   "language": "R",
   "name": "ir"
  },
  "language_info": {
   "codemirror_mode": "r",
   "file_extension": ".r",
   "mimetype": "text/x-r-source",
   "name": "R",
   "pygments_lexer": "r",
   "version": "3.6.1"
  },
  "latex_envs": {
   "LaTeX_envs_menu_present": true,
   "autoclose": false,
   "autocomplete": true,
   "bibliofile": "biblio.bib",
   "cite_by": "apalike",
   "current_citInitial": 1,
   "eqLabelWithNumbers": true,
   "eqNumInitial": 1,
   "hotkeys": {
    "equation": "Ctrl-E",
    "itemize": "Ctrl-I"
   },
   "labels_anchors": false,
   "latex_user_defs": false,
   "report_style_numbering": false,
   "user_envs_cfg": false
  },
  "toc": {
   "base_numbering": 1,
   "nav_menu": {},
   "number_sections": true,
   "sideBar": true,
   "skip_h1_title": false,
   "title_cell": "Table of Contents",
   "title_sidebar": "Contents",
   "toc_cell": false,
   "toc_position": {},
   "toc_section_display": true,
   "toc_window_display": false
  }
 },
 "nbformat": 4,
 "nbformat_minor": 2
}
