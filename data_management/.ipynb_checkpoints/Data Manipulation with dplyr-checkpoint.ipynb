{
 "cells": [
  {
   "cell_type": "markdown",
   "metadata": {},
   "source": [
    "# Data Manipulation in R using `dplyr`"
   ]
  },
  {
   "cell_type": "markdown",
   "metadata": {},
   "source": [
    "## What is `dplyr`?\n",
    "dplyr is a new package which provides a set of tools for efficiently manipulating datasets in R. dplyr is the next iteration of plyr , focussing on only data frames. With `dplyr` , anything you can do to a local data frame you can also do to a remote database table.\n",
    "\n",
    "## Why `dplyr`?\n",
    "- Great for data exploration and transformation\n",
    "- Intuitive to write and easy to read, especially when using the “chaining” syntax (covered below)\n",
    "- Fast on data frames\n",
    "\n",
    "## `dplyr` functionality\n",
    "- Five basic verbs: `filter`, `select`, `arrange`, `mutate`, `summarise` and `groub_by`\n",
    "- Can work with data stored in databases and data tables\n",
    "- Joins: inner join, left join, semi-join, anti-join\n",
    "- Window functions for calculating ranking, offsets, and more\n",
    "- Better than plyr if you’re only working with data frames (though it doesn’t yet duplicate all of the plyr functionality)"
   ]
  },
  {
   "cell_type": "markdown",
   "metadata": {},
   "source": [
    "## Load Packages and Data "
   ]
  },
  {
   "cell_type": "code",
   "execution_count": null,
   "metadata": {},
   "outputs": [],
   "source": [
    "install.packages('hflights', repos = 'http://cran.us.r-project.org')"
   ]
  },
  {
   "cell_type": "code",
   "execution_count": null,
   "metadata": {},
   "outputs": [],
   "source": [
    "# Load packages \n",
    "library(dplyr)\n",
    "library(hflights)"
   ]
  },
  {
   "cell_type": "code",
   "execution_count": null,
   "metadata": {},
   "outputs": [],
   "source": [
    "# Explore data \n",
    "data(hflights)\n",
    "head(hflights)"
   ]
  },
  {
   "cell_type": "code",
   "execution_count": null,
   "metadata": {},
   "outputs": [],
   "source": [
    "#`tbl_df` creates a “local data frame”\n",
    "# Local data frame is simply a wrapper for a data frame that prints nicely\n",
    "flights <- tbl_df(hflights)"
   ]
  },
  {
   "cell_type": "code",
   "execution_count": null,
   "metadata": {},
   "outputs": [],
   "source": [
    "# Examine first few rows \n",
    "head(flights)"
   ]
  },
  {
   "cell_type": "code",
   "execution_count": null,
   "metadata": {},
   "outputs": [],
   "source": [
    "# Examine last few rows \n",
    "tail(flights)"
   ]
  },
  {
   "cell_type": "markdown",
   "metadata": {},
   "source": [
    "## Command structure (for all dplyr verbs)\n",
    "- first argument is a **data frame**\n",
    "- return value is a data frame\n",
    "- nothing is modified in place\n",
    "- Note: dplyr generally does not **preserve row names**"
   ]
  },
  {
   "cell_type": "markdown",
   "metadata": {},
   "source": [
    "## `filter`: Keep rows matching criteria"
   ]
  },
  {
   "cell_type": "markdown",
   "metadata": {},
   "source": [
    "### `AND` Operator( & )"
   ]
  },
  {
   "cell_type": "code",
   "execution_count": null,
   "metadata": {},
   "outputs": [],
   "source": [
    "# Note: you can use comma or ampersand(&) to represent AND conditionfilter(flights, Month==1, DayofMonth==1)\n",
    "# conditionfilter(flights, Month==1, DayofMonth==1)\n",
    "filter(flights, Month==1, DayofMonth==1)"
   ]
  },
  {
   "cell_type": "code",
   "execution_count": null,
   "metadata": {},
   "outputs": [],
   "source": [
    "# Using & \n",
    "filter(flights, Month==1 & DayofMonth==1)"
   ]
  },
  {
   "cell_type": "markdown",
   "metadata": {},
   "source": [
    "### `OR` Operator( | )"
   ]
  },
  {
   "cell_type": "code",
   "execution_count": null,
   "metadata": {},
   "outputs": [],
   "source": [
    "# Pipe for OR operation\n",
    "filter(flights, UniqueCarrier == \"AA\" | UniqueCarrier == \"UA\" )"
   ]
  },
  {
   "cell_type": "markdown",
   "metadata": {},
   "source": [
    "### `%in%` Operator"
   ]
  },
  {
   "cell_type": "code",
   "execution_count": null,
   "metadata": {},
   "outputs": [],
   "source": [
    "# Use of %in%  operator \n",
    "filter(flights, UniqueCarrier %in% c(\"AA\", \"UA\"))"
   ]
  },
  {
   "cell_type": "markdown",
   "metadata": {},
   "source": [
    "## `select`: Pick columns by name \n",
    "- dplyr approach uses similar syntax to filter"
   ]
  },
  {
   "cell_type": "code",
   "execution_count": null,
   "metadata": {},
   "outputs": [],
   "source": [
    "# Selecting columns\n",
    "select(flights, DepTime, ArrTime, FlightNum)"
   ]
  },
  {
   "cell_type": "markdown",
   "metadata": {},
   "source": [
    "### `contains`"
   ]
  },
  {
   "cell_type": "code",
   "execution_count": null,
   "metadata": {},
   "outputs": [],
   "source": [
    "# Use colon to select multiple contiguous columns, and use `contains` to match columns by name\n",
    "# Note: `starts_with`, `ends_with`, and `matches` \n",
    "# (for regular expressions) can also be used to match columns by name\n",
    "select(flights, Year:DayofMonth, contains(\"Taxi\"), contains(\"Delay\"))"
   ]
  },
  {
   "cell_type": "markdown",
   "metadata": {},
   "source": [
    "## \"Chaining” or “Pipelining\"\n",
    "- Usual way to perform multiple operations in one line is by nesting\n",
    "- Can write commands in a natural order by using the %>% infix operator (which can be pronounced as “then”)"
   ]
  },
  {
   "cell_type": "code",
   "execution_count": null,
   "metadata": {},
   "outputs": [],
   "source": [
    "# Nesting Method \n",
    "filter(select(flights, UniqueCarrier, DepDelay), DepDelay > 60)"
   ]
  },
  {
   "cell_type": "code",
   "execution_count": null,
   "metadata": {},
   "outputs": [],
   "source": [
    "# Chaining method \n",
    "flights %>%\n",
    "    select(UniqueCarrier, DepDelay) %>%\n",
    "    filter(DepDelay > 60) %>%\n",
    "    head()"
   ]
  },
  {
   "cell_type": "markdown",
   "metadata": {},
   "source": [
    "## `arrange`: Reorder rows"
   ]
  },
  {
   "cell_type": "code",
   "execution_count": null,
   "metadata": {},
   "outputs": [],
   "source": [
    "# Ascending order\n",
    "flights %>%\n",
    "    select(UniqueCarrier, DepDelay) %>%\n",
    "    arrange(DepDelay) %>%\n",
    "    head()"
   ]
  },
  {
   "cell_type": "code",
   "execution_count": null,
   "metadata": {},
   "outputs": [],
   "source": [
    "# Use `desc` for descending\n",
    "flights %>%\n",
    "    select(UniqueCarrier, DepDelay) %>%\n",
    "    arrange(desc(DepDelay)) %>%\n",
    "    head()"
   ]
  },
  {
   "cell_type": "markdown",
   "metadata": {},
   "source": [
    "## `mutate`: Add new variable"
   ]
  },
  {
   "cell_type": "code",
   "execution_count": null,
   "metadata": {},
   "outputs": [],
   "source": [
    "# Add a new variable and prints the new variable but does not store it\n",
    "flights %>%\n",
    "    select(Distance, AirTime) %>%\n",
    "    mutate(Speed = Distance/AirTime * 60) %>%\n",
    "    head()"
   ]
  },
  {
   "cell_type": "code",
   "execution_count": null,
   "metadata": {},
   "outputs": [],
   "source": [
    "# Store the new variable \n",
    "flights <- flights %>% mutate(Speed = Distance/AirTime * 60)"
   ]
  },
  {
   "cell_type": "code",
   "execution_count": null,
   "metadata": {},
   "outputs": [],
   "source": [
    "# See Dataset\n",
    "head(flights)"
   ]
  },
  {
   "cell_type": "markdown",
   "metadata": {},
   "source": [
    "## `summarise`: Reduce variables to value\n",
    "- Primarily useful with data that has been grouped by one or more variables\n",
    "- `group_by` creates the groups that will be operated on\n",
    "- `summarise` uses the provided aggregation function to summarise each group"
   ]
  },
  {
   "cell_type": "code",
   "execution_count": null,
   "metadata": {},
   "outputs": [],
   "source": [
    "# create a table grouped by Dest, and then summarise each group by taking the mean of ArrDelay\n",
    "flights %>%\n",
    "    group_by(Dest) %>%\n",
    "    summarise(avg_delay = mean(ArrDelay, na.rm=TRUE)) %>%\n",
    "    head()"
   ]
  },
  {
   "cell_type": "code",
   "execution_count": null,
   "metadata": {},
   "outputs": [],
   "source": [
    "# summarise_each allows you to apply the same summary function to multiple columns at once\n",
    "# Note: mutate_each is also available\n",
    "\n",
    "# for each carrier, calculate the percentage of flights cancelled or diverted\n",
    "flights %>%\n",
    "    group_by(UniqueCarrier) %>%\n",
    "    summarise_each(funs(mean), Cancelled, Diverted) %>%\n",
    "    head()"
   ]
  },
  {
   "cell_type": "code",
   "execution_count": null,
   "metadata": {},
   "outputs": [],
   "source": [
    "# for each carrier, calculate the minimum and maximum arrival and departure delays\n",
    "flights %>%\n",
    "    group_by(UniqueCarrier) %>%\n",
    "    summarise_each(funs(min(., na.rm=TRUE), max(., na.rm=TRUE)), matches(\"Delay\")) %>%\n",
    "    head()"
   ]
  },
  {
   "cell_type": "markdown",
   "metadata": {},
   "source": [
    "- Helper function n() counts the number of rows in a group\n",
    "- Helper function n_distinct(vector) counts the number of unique items in that vector"
   ]
  },
  {
   "cell_type": "code",
   "execution_count": null,
   "metadata": {},
   "outputs": [],
   "source": [
    "# for each day of the year, count the total number of flights and sort in descending order\n",
    "flights %>%\n",
    "    group_by(Month, DayofMonth) %>%\n",
    "    summarise(flight_count = n()) %>%\n",
    "    arrange(desc(flight_count)) %>%\n",
    "    head()"
   ]
  },
  {
   "cell_type": "code",
   "execution_count": null,
   "metadata": {},
   "outputs": [],
   "source": [
    "# rewrite more simply with the `tally` function\n",
    "flights %>%\n",
    "    group_by(Month, DayofMonth) %>%\n",
    "    tally(sort = TRUE) %>%\n",
    "    head()"
   ]
  },
  {
   "cell_type": "code",
   "execution_count": null,
   "metadata": {},
   "outputs": [],
   "source": [
    "# for each destination, count the total number of flights and the number of distinct planes that flew there\n",
    "flights %>%\n",
    "    group_by(Dest) %>%\n",
    "    summarise(flight_count = n(), plane_count = n_distinct(TailNum)) %>%\n",
    "    head()"
   ]
  },
  {
   "cell_type": "code",
   "execution_count": null,
   "metadata": {},
   "outputs": [],
   "source": [
    "# for each destination, show the number of cancelled and not cancelled flights\n",
    "flights %>%\n",
    "    group_by(Dest) %>%\n",
    "    select(Cancelled) %>%\n",
    "    table() %>%\n",
    "    head()"
   ]
  },
  {
   "cell_type": "markdown",
   "metadata": {},
   "source": [
    "## `window` Functions\n",
    "- Aggregation function (like `mean`) takes n inputs and returns 1 value\n",
    "- Window function takes n inputs and returns n values\n",
    "- Includes ranking and ordering functions (like `min_rank`), `offset` functions (lead and lag), and cumulative aggregates (like cummean)."
   ]
  },
  {
   "cell_type": "code",
   "execution_count": null,
   "metadata": {},
   "outputs": [],
   "source": [
    "# for each carrier, calculate which two days of the year they had their longest departure delays\n",
    "# note: smallest (not largest) value is ranked as 1, so you have to use `desc` to rank by largest value\n",
    "flights %>%\n",
    "    group_by(UniqueCarrier) %>%\n",
    "    select(Month, DayofMonth, DepDelay) %>%\n",
    "    filter(min_rank(desc(DepDelay)) <= 2) %>%\n",
    "    arrange(UniqueCarrier, desc(DepDelay))"
   ]
  },
  {
   "cell_type": "code",
   "execution_count": null,
   "metadata": {},
   "outputs": [],
   "source": [
    "# rewrite more simply with the `top_n` function\n",
    "flights %>%\n",
    "    group_by(UniqueCarrier) %>%\n",
    "    select(Month, DayofMonth, DepDelay) %>%\n",
    "    top_n(2) %>%\n",
    "    arrange(UniqueCarrier, desc(DepDelay))"
   ]
  },
  {
   "cell_type": "code",
   "execution_count": null,
   "metadata": {},
   "outputs": [],
   "source": [
    "# for each month, calculate the number of flights and the change from the previous month\n",
    "flights %>%\n",
    "    group_by(Month) %>%\n",
    "    summarise(flight_count = n()) %>%\n",
    "    mutate(change = flight_count - lag(flight_count))"
   ]
  },
  {
   "cell_type": "code",
   "execution_count": null,
   "metadata": {},
   "outputs": [],
   "source": [
    "# rewrite more simply with the `tally` function\n",
    "flights %>%\n",
    "    group_by(Month) %>%\n",
    "    tally() %>%\n",
    "    mutate(change = n - lag(n))"
   ]
  },
  {
   "cell_type": "markdown",
   "metadata": {},
   "source": [
    "## Other Useful Convenience Functions"
   ]
  },
  {
   "cell_type": "code",
   "execution_count": null,
   "metadata": {},
   "outputs": [],
   "source": [
    "# randomly sample a fixed number of rows, without replacement\n",
    "flights %>% sample_n(5)"
   ]
  },
  {
   "cell_type": "code",
   "execution_count": null,
   "metadata": {},
   "outputs": [],
   "source": [
    "# randomly sample a fraction of rows, with replacement\n",
    "flights %>% sample_frac(0.25, replace=TRUE)"
   ]
  },
  {
   "cell_type": "code",
   "execution_count": null,
   "metadata": {},
   "outputs": [],
   "source": [
    "str(flights)"
   ]
  },
  {
   "cell_type": "code",
   "execution_count": null,
   "metadata": {},
   "outputs": [],
   "source": [
    "# dplyr approach: better formatting, and adapts to your screen width\n",
    "glimpse(flights)"
   ]
  },
  {
   "cell_type": "markdown",
   "metadata": {},
   "source": [
    "## References\n",
    "- https://rpubs.com/justmarkham/dplyr-tutorial\n",
    "- https://rpubs.com/justmarkham/dplyr-tutorial-part-2\n",
    "- https://rafalab.github.io/dsbook/\n",
    "- [Official dplyr reference manual and vignettes on CRAN](http://cran.r-project.org/web/packages/dplyr/index.html)"
   ]
  }
 ],
 "metadata": {
  "kernelspec": {
   "display_name": "R",
   "language": "R",
   "name": "ir"
  },
  "language_info": {
   "codemirror_mode": "r",
   "file_extension": ".r",
   "mimetype": "text/x-r-source",
   "name": "R",
   "pygments_lexer": "r",
   "version": "3.6.1"
  },
  "latex_envs": {
   "LaTeX_envs_menu_present": true,
   "autoclose": false,
   "autocomplete": true,
   "bibliofile": "biblio.bib",
   "cite_by": "apalike",
   "current_citInitial": 1,
   "eqLabelWithNumbers": true,
   "eqNumInitial": 1,
   "hotkeys": {
    "equation": "Ctrl-E",
    "itemize": "Ctrl-I"
   },
   "labels_anchors": false,
   "latex_user_defs": false,
   "report_style_numbering": false,
   "user_envs_cfg": false
  },
  "toc": {
   "base_numbering": 1,
   "nav_menu": {},
   "number_sections": true,
   "sideBar": true,
   "skip_h1_title": false,
   "title_cell": "Table of Contents",
   "title_sidebar": "Contents",
   "toc_cell": false,
   "toc_position": {},
   "toc_section_display": true,
   "toc_window_display": false
  }
 },
 "nbformat": 4,
 "nbformat_minor": 4
}
